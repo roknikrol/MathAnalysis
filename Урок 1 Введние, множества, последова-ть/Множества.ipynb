{
 "cells": [
  {
   "cell_type": "markdown",
   "metadata": {},
   "source": [
    "### Множества \n",
    "\n",
    "a = [10,20,40,50]\n",
    "b = [20,30,60,90]\n",
    "c = [80,50,20,70]\n",
    "\n",
    "Бинарные операции:\n",
    "\n",
    "-пересечение\n",
    "\n",
    "-объединение\n",
    "\n",
    "-разность\n",
    "\n",
    "-симметрическая разность\n",
    "\n",
    "-Декартово произведение"
   ]
  },
  {
   "cell_type": "markdown",
   "metadata": {},
   "source": [
    "#### Пересечение :\n",
    "a b c = [20]"
   ]
  },
  {
   "cell_type": "markdown",
   "metadata": {},
   "source": [
    "#### Объеденение :\n",
    "a b c = [10,20,40,50,30,60,90,80,70]"
   ]
  },
  {
   "cell_type": "markdown",
   "metadata": {},
   "source": [
    "#### Разность :\n",
    "a b c = [10,40]"
   ]
  },
  {
   "cell_type": "markdown",
   "metadata": {},
   "source": [
    "#### Симметрическая разность :\n",
    "a b c = [10,40,30,60,90,80,70]"
   ]
  },
  {
   "cell_type": "markdown",
   "metadata": {},
   "source": [
    "#### Декартово произведение :\n",
    "a b c = [10,20,80], [10,30,50],[10,60,20] ..."
   ]
  },
  {
   "cell_type": "code",
   "execution_count": 2,
   "metadata": {},
   "outputs": [],
   "source": [
    "a = [10,20,40,50]\n",
    "b = [20,30,60,90]\n",
    "c = [80,50,20,70]"
   ]
  },
  {
   "cell_type": "code",
   "execution_count": 3,
   "metadata": {},
   "outputs": [
    {
     "name": "stdout",
     "output_type": "stream",
     "text": [
      "[20]\n"
     ]
    }
   ],
   "source": [
    "# пересчение a b с (без \"с\" так как результат тот же)\n",
    "result = []\n",
    "for i in a:\n",
    "    if i in b:\n",
    "        result.append(i)\n",
    "        \n",
    "print(result)"
   ]
  },
  {
   "cell_type": "code",
   "execution_count": 4,
   "metadata": {},
   "outputs": [
    {
     "name": "stdout",
     "output_type": "stream",
     "text": [
      "[20]\n",
      "[20]\n"
     ]
    },
    {
     "data": {
      "text/plain": [
       "([20], None)"
      ]
     },
     "execution_count": 4,
     "metadata": {},
     "output_type": "execute_result"
    }
   ],
   "source": [
    "def cross(x,y):\n",
    "    result = []\n",
    "    for i in x:\n",
    "        if i in y:\n",
    "            result.append(i)\n",
    "#     for i in z:\n",
    "#         if i in result:\n",
    "#             result.replace()\n",
    "    return result, print(result)\n",
    "\n",
    "cross(b,a) # дейстиве 1\n",
    "cross(result, c) # действие 2"
   ]
  },
  {
   "cell_type": "code",
   "execution_count": 5,
   "metadata": {},
   "outputs": [
    {
     "name": "stdout",
     "output_type": "stream",
     "text": [
      "[70, 40, 10, 80, 50, 20, 90, 60, 30]\n"
     ]
    }
   ],
   "source": [
    "# объеденение\n",
    "result = []\n",
    " \n",
    "result.extend(a)\n",
    "result.extend(b)\n",
    "result.extend(c)\n",
    "print(list(set(result)))"
   ]
  },
  {
   "cell_type": "code",
   "execution_count": 12,
   "metadata": {},
   "outputs": [
    {
     "data": {
      "text/plain": [
       "[10, 40]"
      ]
     },
     "execution_count": 12,
     "metadata": {},
     "output_type": "execute_result"
    }
   ],
   "source": [
    "# Разность\n",
    "def differ(x,y,z):\n",
    "    result = []\n",
    "    result_2 = []\n",
    "    for i in x:\n",
    "        if i not in y:\n",
    "            result.append(i)\n",
    "    for i in result:\n",
    "        if i not in z:\n",
    "            result_2.append(i)\n",
    "    return result_2  \n",
    "\n",
    "differ(a,b,c)"
   ]
  },
  {
   "cell_type": "code",
   "execution_count": 13,
   "metadata": {},
   "outputs": [
    {
     "name": "stdout",
     "output_type": "stream",
     "text": [
      "[10, 40, 50, 30, 60, 90, 80, 70]\n"
     ]
    }
   ],
   "source": [
    "# Симметрическая разность\n",
    "result = []\n",
    "step = []\n",
    "for i in a:\n",
    "    if i not in b:\n",
    "        result.append(i)\n",
    "    else: step.append(i)\n",
    "for i in b:\n",
    "    if i not in step:\n",
    "        result.append(i)\n",
    "for i in c:\n",
    "    if i not in result and i not in step:\n",
    "        result.append(i)\n",
    "\n",
    "print(result) "
   ]
  },
  {
   "cell_type": "code",
   "execution_count": 23,
   "metadata": {},
   "outputs": [
    {
     "name": "stdout",
     "output_type": "stream",
     "text": [
      "[[10, 20, 80], [10, 20, 50], [10, 20, 20], [10, 20, 70], [10, 30, 80], [10, 30, 50], [10, 30, 20], [10, 30, 70], [10, 60, 80], [10, 60, 50], [10, 60, 20], [10, 60, 70], [10, 90, 80], [10, 90, 50], [10, 90, 20], [10, 90, 70], [20, 20, 80], [20, 20, 50], [20, 20, 20], [20, 20, 70], [20, 30, 80], [20, 30, 50], [20, 30, 20], [20, 30, 70], [20, 60, 80], [20, 60, 50], [20, 60, 20], [20, 60, 70], [20, 90, 80], [20, 90, 50], [20, 90, 20], [20, 90, 70], [40, 20, 80], [40, 20, 50], [40, 20, 20], [40, 20, 70], [40, 30, 80], [40, 30, 50], [40, 30, 20], [40, 30, 70], [40, 60, 80], [40, 60, 50], [40, 60, 20], [40, 60, 70], [40, 90, 80], [40, 90, 50], [40, 90, 20], [40, 90, 70], [50, 20, 80], [50, 20, 50], [50, 20, 20], [50, 20, 70], [50, 30, 80], [50, 30, 50], [50, 30, 20], [50, 30, 70], [50, 60, 80], [50, 60, 50], [50, 60, 20], [50, 60, 70], [50, 90, 80], [50, 90, 50], [50, 90, 20], [50, 90, 70]]\n"
     ]
    }
   ],
   "source": [
    "# Декартово произведение\n",
    "all_lists = [a,b,c]\n",
    "result = [[a,b,c] for a in all_lists[0] for b in all_lists[1] for c in all_lists[2]]\n",
    "print(result)"
   ]
  }
 ],
 "metadata": {
  "kernelspec": {
   "display_name": "Python 3",
   "language": "python",
   "name": "python3"
  },
  "language_info": {
   "codemirror_mode": {
    "name": "ipython",
    "version": 3
   },
   "file_extension": ".py",
   "mimetype": "text/x-python",
   "name": "python",
   "nbconvert_exporter": "python",
   "pygments_lexer": "ipython3",
   "version": "3.7.4"
  }
 },
 "nbformat": 4,
 "nbformat_minor": 2
}
